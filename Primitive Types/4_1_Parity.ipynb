{
 "cells": [
  {
   "cell_type": "markdown",
   "id": "c24f75ae",
   "metadata": {},
   "source": [
    "# 4.1 Computing the parity of a word.\n",
    "\n",
    "Compute the parity (parity of set bits) of a very large number of 64-bit words."
   ]
  },
  {
   "cell_type": "code",
   "execution_count": 1,
   "id": "749bde8c",
   "metadata": {},
   "outputs": [],
   "source": [
    "import random\n",
    "large_number = random.randint(2**100, 2**1000)"
   ]
  },
  {
   "cell_type": "markdown",
   "id": "e11b624f",
   "metadata": {},
   "source": [
    "## Brute Force Solution\n",
    "\n",
    "\n",
    "Iterate bit by bit through integer and toggle res if last digit is 1. \n",
    "Let $n$ be the number of bits in our input integer, then we have $O(n)$ time complexity."
   ]
  },
  {
   "cell_type": "code",
   "execution_count": 2,
   "id": "398e9c78",
   "metadata": {},
   "outputs": [],
   "source": [
    "# O(n) time complexity, where n is number of bits.\n",
    "def brute_force(x: int) -> int:\n",
    "    res = 0\n",
    "    while x:\n",
    "        res ^= x&1\n",
    "        x >>= 1\n",
    "    return res"
   ]
  },
  {
   "cell_type": "code",
   "execution_count": 3,
   "id": "caabad2c",
   "metadata": {},
   "outputs": [
    {
     "name": "stdout",
     "output_type": "stream",
     "text": [
      "CPU times: user 226 µs, sys: 14 µs, total: 240 µs\n",
      "Wall time: 244 µs\n"
     ]
    },
    {
     "data": {
      "text/plain": [
       "1"
      ]
     },
     "execution_count": 3,
     "metadata": {},
     "output_type": "execute_result"
    }
   ],
   "source": [
    "time(brute_force(large_number))"
   ]
  },
  {
   "cell_type": "markdown",
   "id": "717cc139",
   "metadata": {},
   "source": [
    "## Brute Force Improvement\n",
    "\n",
    "\n",
    "Iterate bit by bit through integer and toggle res if last digit is 1. We make an improvement this time, by repeatedly clearing the lowest set bit, and toggling res every time one exists. \n",
    "Let $n$ be the number of bits in our input integer, with $k$ set bits, then we have $O(k)$ time complexity."
   ]
  },
  {
   "cell_type": "code",
   "execution_count": 4,
   "id": "7bc5ca76",
   "metadata": {},
   "outputs": [],
   "source": [
    "# improve by skipping 0 bits for each iteration.\n",
    "# O(k) time complexity, where k is number of set bits. \n",
    "def brute_force_improvement(x: int) -> int:\n",
    "    res = 0\n",
    "    while x:\n",
    "        res ^= 1\n",
    "        x &= (x-1)\n",
    "    return res"
   ]
  },
  {
   "cell_type": "code",
   "execution_count": 8,
   "id": "5ed81956",
   "metadata": {},
   "outputs": [
    {
     "name": "stdout",
     "output_type": "stream",
     "text": [
      "CPU times: user 158 µs, sys: 0 ns, total: 158 µs\n",
      "Wall time: 162 µs\n"
     ]
    },
    {
     "data": {
      "text/plain": [
       "1"
      ]
     },
     "execution_count": 8,
     "metadata": {},
     "output_type": "execute_result"
    }
   ],
   "source": [
    "time(brute_force_improvement(large_number))"
   ]
  },
  {
   "cell_type": "markdown",
   "id": "bca3f72c",
   "metadata": {},
   "source": [
    "## Parallel Operations\n",
    "\n",
    "since XOR is associative, order does not matter.\n",
    "note that the parity of any x is the same as the XOR'd parity of each half of x. \n",
    "thus, we can reduce the number of bits in x by half every time we calculate parity.\n",
    "O(log n) time complexity"
   ]
  },
  {
   "cell_type": "code",
   "execution_count": 14,
   "id": "e3448326",
   "metadata": {},
   "outputs": [],
   "source": [
    "def parallel_operations(x: int) -> int:\n",
    "    # assume we are operating in 64-bit integers.\n",
    "    x ^= (x >> 32)\n",
    "    x ^= (x >> 16)\n",
    "    x ^= (x >> 8)\n",
    "    x ^= (x >> 4)\n",
    "    x ^= (x >> 2)\n",
    "    x ^= (x >> 1)\n",
    "    return x&1"
   ]
  },
  {
   "cell_type": "code",
   "execution_count": 10,
   "id": "cce88de4",
   "metadata": {},
   "outputs": [
    {
     "name": "stdout",
     "output_type": "stream",
     "text": [
      "CPU times: user 116 µs, sys: 0 ns, total: 116 µs\n",
      "Wall time: 118 µs\n"
     ]
    },
    {
     "data": {
      "text/plain": [
       "1"
      ]
     },
     "execution_count": 10,
     "metadata": {},
     "output_type": "execute_result"
    }
   ],
   "source": [
    "time(brute_force_improvement(large_number))"
   ]
  },
  {
   "cell_type": "markdown",
   "id": "551eccaf",
   "metadata": {},
   "source": [
    "## Using Caching\n",
    "use caching to improve scalability\n",
    "suppose we cache L-bit inputs, then we split n bits into n/L constant calculations\n",
    "O(n/L) time complexity, where cached words are L bits."
   ]
  },
  {
   "cell_type": "code",
   "execution_count": 15,
   "id": "8a84ca17",
   "metadata": {},
   "outputs": [],
   "source": [
    "PRECOMPUTED_PARITY = [] # precomputed cache. Not empty in real world usage\n",
    "def lookup_table(x: int) -> int:\n",
    "    mask_size = 16\n",
    "    bit_mask = 0xFFFF\n",
    "    res = PRECOMPUTED_PARITY[x >> (3 * mask_size)]\n",
    "    res ^= PRECOMPUTED_PARITY[x >> (2 * mask_size) & bit_mask]\n",
    "    res ^= PRECOMPUTED_PARITY[(x >> mask_size) & bit_mask]\n",
    "    res ^= PRECOMPUTED_PARITY[x & bit_mask]\n",
    "    return res"
   ]
  },
  {
   "cell_type": "markdown",
   "id": "659ce066",
   "metadata": {},
   "source": [
    "## Other Useful Variants\n",
    "### Right Propagate the rightmost set bit in x. \n",
    "0b01010000 --> 0b01011111"
   ]
  },
  {
   "cell_type": "code",
   "execution_count": 21,
   "id": "cf8ed90b",
   "metadata": {},
   "outputs": [],
   "source": [
    "def right_propogate(x: int) -> int:\n",
    "    return x|((x&~(x-1))-1)"
   ]
  },
  {
   "cell_type": "code",
   "execution_count": 23,
   "id": "6a2ec123",
   "metadata": {},
   "outputs": [
    {
     "data": {
      "text/plain": [
       "'0b1011111'"
      ]
     },
     "execution_count": 23,
     "metadata": {},
     "output_type": "execute_result"
    }
   ],
   "source": [
    "bin(right_propogate(0b01010000))"
   ]
  },
  {
   "cell_type": "markdown",
   "id": "bf7b8c21",
   "metadata": {},
   "source": [
    "### Compute x mod a power of 2\n",
    "77 mod 64 --> 13"
   ]
  },
  {
   "cell_type": "code",
   "execution_count": 17,
   "id": "d7088188",
   "metadata": {},
   "outputs": [],
   "source": [
    "def mod_power_2(x: int, p: int) -> int:\n",
    "    return x & ((1<<p) - 1)"
   ]
  },
  {
   "cell_type": "code",
   "execution_count": 24,
   "id": "922f538b",
   "metadata": {},
   "outputs": [
    {
     "data": {
      "text/plain": [
       "13"
      ]
     },
     "execution_count": 24,
     "metadata": {},
     "output_type": "execute_result"
    }
   ],
   "source": [
    "mod_power_2(77, 6)"
   ]
  },
  {
   "cell_type": "markdown",
   "id": "2027aa0f",
   "metadata": {},
   "source": [
    "### Test if x is a power of two\n",
    "returns True for x = 1, 2, 4, 8, ... and otherwise False"
   ]
  },
  {
   "cell_type": "code",
   "execution_count": 19,
   "id": "c273fead",
   "metadata": {},
   "outputs": [],
   "source": [
    "def is_power_of_two(x: int) -> bool:\n",
    "    return x&(x-1) == 0 "
   ]
  },
  {
   "cell_type": "code",
   "execution_count": 30,
   "id": "ace4c056",
   "metadata": {},
   "outputs": [
    {
     "name": "stdout",
     "output_type": "stream",
     "text": [
      "1: True\n",
      "2: True\n",
      "3: False\n",
      "4: True\n",
      "5: False\n",
      "6: False\n",
      "7: False\n",
      "8: True\n",
      "9: False\n",
      "10: False\n",
      "11: False\n",
      "12: False\n",
      "13: False\n",
      "14: False\n",
      "15: False\n",
      "16: True\n",
      "17: False\n",
      "18: False\n",
      "19: False\n"
     ]
    }
   ],
   "source": [
    "for i in range(1, 20):\n",
    "    print(str(i) + \": \" + str(is_power_of_two(i)))"
   ]
  }
 ],
 "metadata": {
  "kernelspec": {
   "display_name": "Python 3 (ipykernel)",
   "language": "python",
   "name": "python3"
  },
  "language_info": {
   "codemirror_mode": {
    "name": "ipython",
    "version": 3
   },
   "file_extension": ".py",
   "mimetype": "text/x-python",
   "name": "python",
   "nbconvert_exporter": "python",
   "pygments_lexer": "ipython3",
   "version": "3.10.4"
  }
 },
 "nbformat": 4,
 "nbformat_minor": 5
}
